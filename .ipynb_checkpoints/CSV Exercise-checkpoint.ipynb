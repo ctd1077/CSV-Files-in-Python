{
 "cells": [
  {
   "cell_type": "code",
   "execution_count": 19,
   "metadata": {},
   "outputs": [],
   "source": [
    "# CSV Exercise\n",
    "# Download CSV file here: https://goo.gl/3zaUlD\n",
    "# I followed the YouTube video CSV files in Python Credit: Socratica"
   ]
  },
  {
   "cell_type": "code",
   "execution_count": 43,
   "metadata": {},
   "outputs": [],
   "source": [
    "import csv\n",
    "from datetime import datetime"
   ]
  },
  {
   "cell_type": "code",
   "execution_count": 44,
   "metadata": {},
   "outputs": [],
   "source": [
    "path = r'/home/Google Stock Market Data - google_stock_data.csv'"
   ]
  },
  {
   "cell_type": "code",
   "execution_count": 45,
   "metadata": {},
   "outputs": [],
   "source": [
    "# The newline='' is because depending on your system a newline maybe end with an empty str\n",
    "file = open(path, newline='')"
   ]
  },
  {
   "cell_type": "code",
   "execution_count": 46,
   "metadata": {},
   "outputs": [],
   "source": [
    "reader = csv.reader(file)"
   ]
  },
  {
   "cell_type": "code",
   "execution_count": 47,
   "metadata": {},
   "outputs": [],
   "source": [
    "# The next function is used the extract the first line\n",
    "header = next(reader) "
   ]
  },
  {
   "cell_type": "code",
   "execution_count": 38,
   "metadata": {},
   "outputs": [],
   "source": [
    "# Reads the data\n",
    "data = [x for x in reader]"
   ]
  },
  {
   "cell_type": "code",
   "execution_count": 39,
   "metadata": {},
   "outputs": [
    {
     "name": "stdout",
     "output_type": "stream",
     "text": [
      "['Date', 'Open', 'High', 'Low', 'Close', 'Volume', 'Adj Close']\n",
      "['8/19/2014', '585.002622', '587.342658', '584.002627', '586.862643', '978600', '586.862643']\n"
     ]
    }
   ],
   "source": [
    "print(header)\n",
    "print(data[0])"
   ]
  },
  {
   "cell_type": "code",
   "execution_count": 50,
   "metadata": {},
   "outputs": [],
   "source": [
    "# Clean the data by formatting the each column to the correct data type\n",
    "dataset = []\n",
    "for x in reader:\n",
    "    # row = [Date,Open, High, Low, Close, Volume, Adj. Close]\n",
    "    date = datetime.strptime(x[0], '%m/%d/%Y')\n",
    "    open_price = float(x[1])\n",
    "    high = float(x[2])\n",
    "    low = float(x[3])\n",
    "    close = float(x[4])\n",
    "    volume = int(x[5])\n",
    "    adj_close = float(x[6])\n",
    "    dataset.append([date, open_price, high, low, close, volume, adj_close])"
   ]
  },
  {
   "cell_type": "code",
   "execution_count": 51,
   "metadata": {},
   "outputs": [
    {
     "data": {
      "text/plain": [
       "[datetime.datetime(2014, 8, 18, 0, 0),\n",
       " 576.11258,\n",
       " 584.512631,\n",
       " 576.002598,\n",
       " 582.162619,\n",
       " 1284100,\n",
       " 582.162619]"
      ]
     },
     "execution_count": 51,
     "metadata": {},
     "output_type": "execute_result"
    }
   ],
   "source": [
    "dataset[0]"
   ]
  },
  {
   "cell_type": "code",
   "execution_count": 67,
   "metadata": {},
   "outputs": [],
   "source": [
    "# Compute and store daily stock returns\n",
    "returns_path = r'/home/google_returns.csv'"
   ]
  },
  {
   "cell_type": "code",
   "execution_count": 68,
   "metadata": {},
   "outputs": [
    {
     "data": {
      "text/plain": [
       "13"
      ]
     },
     "execution_count": 68,
     "metadata": {},
     "output_type": "execute_result"
    }
   ],
   "source": [
    "file = open(returns_path, 'w')\n",
    "writer = csv.writer(file)\n",
    "writer.writerow(['Date', 'Return'])"
   ]
  },
  {
   "cell_type": "code",
   "execution_count": 69,
   "metadata": {},
   "outputs": [],
   "source": [
    "for i in range(len(dataset) -1):\n",
    "    todays_row = dataset[i]\n",
    "    todays_date = todays_row[0]\n",
    "    todays_price = todays_row[-1]\n",
    "    yesterdays_row = dataset[i+1]\n",
    "    yesterdays_price = yesterdays_row[-1]\n",
    "    daily_return = (todays_price - yesterdays_price) / yesterdays_price\n",
    "    formatted_date = todays_date.strftime('%m/%d/%Y')\n",
    "    writer.writerow([formatted_date, daily_return])"
   ]
  }
 ],
 "metadata": {
  "kernelspec": {
   "display_name": "Python 3",
   "language": "python",
   "name": "python3"
  },
  "language_info": {
   "codemirror_mode": {
    "name": "ipython",
    "version": 3
   },
   "file_extension": ".py",
   "mimetype": "text/x-python",
   "name": "python",
   "nbconvert_exporter": "python",
   "pygments_lexer": "ipython3",
   "version": "3.6.8"
  }
 },
 "nbformat": 4,
 "nbformat_minor": 2
}
